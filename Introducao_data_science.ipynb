{
 "cells": [
  {
   "cell_type": "code",
   "execution_count": 2,
   "metadata": {},
   "outputs": [],
   "source": [
    "import numpy as np\n",
    "import pandas as pd"
   ]
  },
  {
   "cell_type": "code",
   "execution_count": 3,
   "metadata": {},
   "outputs": [
    {
     "name": "stdout",
     "output_type": "stream",
     "text": [
      "[0. 1. 2. 3. 4. 5. 6. 7. 8. 9.]\n"
     ]
    }
   ],
   "source": [
    "a = np.zeros(10)\n",
    "n = 0\n",
    "for i in a:\n",
    "    a[n] = n\n",
    "    n+= 1\n",
    "print(a)"
   ]
  },
  {
   "cell_type": "code",
   "execution_count": 17,
   "metadata": {},
   "outputs": [
    {
     "name": "stdout",
     "output_type": "stream",
     "text": [
      "[ 1 10  9  8  7  5  4  2  6  9 10  3  5  6  7  8]\n"
     ]
    }
   ],
   "source": [
    "lista = [{'a':1}, {'b':10}, {'c':9} ,{'d':8}, {'e':7}, {'f':5}, {'g':4}, {'h':2} ,{'i':6} ,{'j':9}, {'k':10},{'l':3},{'m':5},{'n':6},{'o':7},{'p':8}] \n",
    "lista_array = np.array(lista)\n",
    "#print(np.values(lista_array))\n",
    "#O NumPy não suporta operações diretas em uma lista de dicionários como faria com listas ou arrays de números\n",
    "valores = [list(d.values())[0] for d in lista]\n",
    "# Converter a lista de valores para um array do NumPy\n",
    "valores_array = np.array(valores)\n",
    "\n",
    "print(valores_array)"
   ]
  },
  {
   "cell_type": "code",
   "execution_count": 18,
   "metadata": {},
   "outputs": [
    {
     "name": "stdout",
     "output_type": "stream",
     "text": [
      "Passaram 10 pessoas\n"
     ]
    }
   ],
   "source": [
    "mask_passou = (valores_array > 5)\n",
    "print(f'Passaram {np.sum(mask_passou)} pessoas')"
   ]
  },
  {
   "cell_type": "code",
   "execution_count": null,
   "metadata": {},
   "outputs": [],
   "source": [
    "notas = np.array([1, 10, 9 ,8, 7, 5, 4, 2 ,6 ,9, 10,3,5,6,7,8])\n",
    "print(notas)\n",
    "aprovados = notas>=7\n",
    "print(aprovados)\n",
    "aprovados = notas[notas>=7]\n",
    "print(aprovados)"
   ]
  },
  {
   "cell_type": "code",
   "execution_count": 22,
   "metadata": {},
   "outputs": [
    {
     "name": "stdout",
     "output_type": "stream",
     "text": [
      "0        Rick Riordan\n",
      "1         JRR Tolkien\n",
      "2        Rick Riordan\n",
      "3    Machado de Assis\n",
      "Name: Autores, dtype: object\n",
      "WWWWWWWWWWWWWWWWWWWW\n",
      "JRR Tolkien\n",
      "WWWWWWWWWWWWWWWWWWWW\n",
      "39.225\n"
     ]
    }
   ],
   "source": [
    "#criar um dicicionario com autores precos e titulos\n",
    "dict = { 'Autores':['Rick Riordan', 'JRR Tolkien', 'Rick Riordan', 'Machado de Assis'],\n",
    "        'Titulos':['O Ladrão de raios', 'A Sociedade do Anel', 'Mar de Mostros', 'Memórias Póstumas de Brás Cubas'],\n",
    "        'Precos': [41.2, 35.7, 39.5, 40.5]}\n",
    "#criação do dataframe\n",
    "\n",
    "df = pd.DataFrame(dict)\n",
    "\n",
    "print(df['Autores'])\n",
    "print('W'*20)\n",
    "print(df['Autores'][1])\n",
    "print('W'*20)\n",
    "print(df['Precos'].mean())"
   ]
  },
  {
   "cell_type": "code",
   "execution_count": 23,
   "metadata": {},
   "outputs": [
    {
     "name": "stdout",
     "output_type": "stream",
     "text": [
      "0     True\n",
      "1    False\n",
      "2     True\n",
      "3    False\n",
      "Name: Autores, dtype: bool\n",
      "WWWWWWWWWWWWWWWWWWWW\n",
      "        Autores            Titulos  Precos\n",
      "0  Rick Riordan  O Ladrão de raios    41.2\n",
      "2  Rick Riordan     Mar de Mostros    39.5\n"
     ]
    }
   ],
   "source": [
    "#mascara de filtro  de autor = rick riordan\n",
    "mascara = (df['Autores']=='Rick Riordan')\n",
    "print(mascara)\n",
    "print('W'*20)\n",
    "#filtrando por autor\n",
    "print(df[mascara])\n"
   ]
  },
  {
   "cell_type": "code",
   "execution_count": 24,
   "metadata": {},
   "outputs": [
    {
     "name": "stdout",
     "output_type": "stream",
     "text": [
      "            Autores                          Titulos  Precos\n",
      "0      Rick Riordan                O Ladrão de raios    41.2\n",
      "1       JRR Tolkien              A Sociedade do Anel    35.7\n",
      "2      Rick Riordan                   Mar de Mostros    39.5\n",
      "3  Machado de Assis  Memórias Póstumas de Brás Cubas    40.5\n",
      "4      Rick Riordan               A Maldição do Titã    40.2\n"
     ]
    }
   ],
   "source": [
    "# Adicionar valores ao DataFrame\n",
    "novo_valor = pd.DataFrame({'Autores': ['Rick Riordan'], 'Titulos': ['A Maldição do Titã'], 'Precos': [40.2]})\n",
    "df = pd.concat([df, novo_valor], ignore_index=True)\n",
    "\n",
    "print(df)"
   ]
  },
  {
   "cell_type": "code",
   "execution_count": 25,
   "metadata": {},
   "outputs": [
    {
     "name": "stdout",
     "output_type": "stream",
     "text": [
      "\n",
      "\n",
      "\n",
      "            Autores  Precos\n",
      "0      Rick Riordan    41.2\n",
      "1       JRR Tolkien    35.7\n",
      "2      Rick Riordan    39.5\n",
      "3  Machado de Assis    40.5\n",
      "4      Rick Riordan    40.2\n"
     ]
    }
   ],
   "source": [
    "mascara_correcao = df['Titulos'] == 'A Maldição do Titã'\n",
    "df.loc[mascara_correcao, 'Titulos'] = 'As Maldições dos Titãs'\n",
    "print()\n",
    "print()\n",
    "print()\n",
    "print(df[['Autores','Precos']])"
   ]
  },
  {
   "cell_type": "code",
   "execution_count": 26,
   "metadata": {},
   "outputs": [],
   "source": [
    "\n",
    "# Caminho do arquivo\n",
    "caminho_arquivo = r'E:\\PYTHON\\CURSOS\\02 UDEMY\\Curso_de_Python_3_do_básico_ao_avançado\\03_avançado\\dicionario_musicas.txt'\n",
    "\n",
    "\n",
    "#printe  as musicas / valores onde o artista é a tayor swift key\n"
   ]
  },
  {
   "cell_type": "code",
   "execution_count": 27,
   "metadata": {},
   "outputs": [],
   "source": [
    "# Ler o conteúdo do arquivo\n",
    "with open(caminho_arquivo, 'r') as arquivo:\n",
    "        conteudo = arquivo.read()"
   ]
  },
  {
   "cell_type": "code",
   "execution_count": 28,
   "metadata": {},
   "outputs": [],
   "source": [
    "# Avaliar o conteúdo como uma expressão Python e carregar em um DataFrame\n",
    "df = pd.DataFrame(eval(conteudo))\n",
    "\n",
    "artista_escolhido = df['Artista']='Taylor Swift' \n",
    "musicas_taylor = df[df['Artista']=='Taylor Swift']['Musica']"
   ]
  },
  {
   "cell_type": "code",
   "execution_count": null,
   "metadata": {},
   "outputs": [],
   "source": [
    "print(musicas_taylor)\n",
    "# Exibir o DataFrame\n",
    "#quantidade_taylor = np.sum(artista_escolhido)\n",
    "print(artista_escolhido)\n",
    "print(df[['Artista', 'Musica']])"
   ]
  },
  {
   "cell_type": "code",
   "execution_count": null,
   "metadata": {},
   "outputs": [],
   "source": [
    "a = 'teste git envio vscode'"
   ]
  }
 ],
 "metadata": {
  "kernelspec": {
   "display_name": "Python 3",
   "language": "python",
   "name": "python3"
  },
  "language_info": {
   "codemirror_mode": {
    "name": "ipython",
    "version": 3
   },
   "file_extension": ".py",
   "mimetype": "text/x-python",
   "name": "python",
   "nbconvert_exporter": "python",
   "pygments_lexer": "ipython3",
   "version": "3.10.9"
  }
 },
 "nbformat": 4,
 "nbformat_minor": 2
}
