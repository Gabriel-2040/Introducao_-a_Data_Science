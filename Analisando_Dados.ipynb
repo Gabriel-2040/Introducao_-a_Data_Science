{
 "cells": [
  {
   "cell_type": "code",
   "execution_count": 1,
   "metadata": {},
   "outputs": [],
   "source": [
    "import pandas as pd"
   ]
  },
  {
   "cell_type": "code",
   "execution_count": 2,
   "metadata": {},
   "outputs": [],
   "source": [
    "taxis = pd.read_csv(r'E:\\PYTHON\\CURSOS\\11_SANTANDER_CODER_2024\\Introducao_ a_Data_Science\\biblioteca\\taxis.csv')"
   ]
  },
  {
   "cell_type": "code",
   "execution_count": 3,
   "metadata": {},
   "outputs": [
    {
     "name": "stdout",
     "output_type": "stream",
     "text": [
      "                pickup              dropoff  passengers  distance  fare   tip  \\\n",
      "0  2019-03-23 20:21:09  2019-03-23 20:27:24           1      1.60   7.0  2.15   \n",
      "1  2019-03-04 16:11:55  2019-03-04 16:19:00           1      0.79   5.0  0.00   \n",
      "2  2019-03-27 17:53:01  2019-03-27 18:00:25           1      1.37   7.5  2.36   \n",
      "3  2019-03-10 01:23:59  2019-03-10 01:49:51           1      7.70  27.0  6.15   \n",
      "4  2019-03-30 13:27:42  2019-03-30 13:37:14           3      2.16   9.0  1.10   \n",
      "\n",
      "   tolls  total   color      payment            pickup_zone  \\\n",
      "0    0.0  12.95  yellow  credit card        Lenox Hill West   \n",
      "1    0.0   9.30  yellow         cash  Upper West Side South   \n",
      "2    0.0  14.16  yellow  credit card          Alphabet City   \n",
      "3    0.0  36.95  yellow  credit card              Hudson Sq   \n",
      "4    0.0  13.40  yellow  credit card           Midtown East   \n",
      "\n",
      "            dropoff_zone pickup_borough dropoff_borough  \n",
      "0    UN/Turtle Bay South      Manhattan       Manhattan  \n",
      "1  Upper West Side South      Manhattan       Manhattan  \n",
      "2           West Village      Manhattan       Manhattan  \n",
      "3         Yorkville West      Manhattan       Manhattan  \n",
      "4         Yorkville West      Manhattan       Manhattan  \n"
     ]
    }
   ],
   "source": [
    "print(taxis.head())"
   ]
  },
  {
   "cell_type": "code",
   "execution_count": 4,
   "metadata": {},
   "outputs": [
    {
     "name": "stdout",
     "output_type": "stream",
     "text": [
      "<class 'pandas.core.frame.DataFrame'>\n",
      "RangeIndex: 6433 entries, 0 to 6432\n",
      "Data columns (total 14 columns):\n",
      " #   Column           Non-Null Count  Dtype  \n",
      "---  ------           --------------  -----  \n",
      " 0   pickup           6433 non-null   object \n",
      " 1   dropoff          6433 non-null   object \n",
      " 2   passengers       6433 non-null   int64  \n",
      " 3   distance         6433 non-null   float64\n",
      " 4   fare             6433 non-null   float64\n",
      " 5   tip              6433 non-null   float64\n",
      " 6   tolls            6433 non-null   float64\n",
      " 7   total            6433 non-null   float64\n",
      " 8   color            6433 non-null   object \n",
      " 9   payment          6389 non-null   object \n",
      " 10  pickup_zone      6407 non-null   object \n",
      " 11  dropoff_zone     6388 non-null   object \n",
      " 12  pickup_borough   6407 non-null   object \n",
      " 13  dropoff_borough  6388 non-null   object \n",
      "dtypes: float64(5), int64(1), object(8)\n",
      "memory usage: 703.7+ KB\n",
      "None\n"
     ]
    }
   ],
   "source": [
    "# Display the summary of the DataFrame\n",
    "print(taxis.info())"
   ]
  },
  {
   "cell_type": "code",
   "execution_count": 5,
   "metadata": {},
   "outputs": [
    {
     "name": "stdout",
     "output_type": "stream",
     "text": [
      "        passengers     distance         fare         tip        tolls  \\\n",
      "count  6433.000000  6433.000000  6433.000000  6433.00000  6433.000000   \n",
      "mean      1.539251     3.024617    13.091073     1.97922     0.325273   \n",
      "std       1.203768     3.827867    11.551804     2.44856     1.415267   \n",
      "min       0.000000     0.000000     1.000000     0.00000     0.000000   \n",
      "25%       1.000000     0.980000     6.500000     0.00000     0.000000   \n",
      "50%       1.000000     1.640000     9.500000     1.70000     0.000000   \n",
      "75%       2.000000     3.210000    15.000000     2.80000     0.000000   \n",
      "max       6.000000    36.700000   150.000000    33.20000    24.020000   \n",
      "\n",
      "             total  \n",
      "count  6433.000000  \n",
      "mean     18.517794  \n",
      "std      13.815570  \n",
      "min       1.300000  \n",
      "25%      10.800000  \n",
      "50%      14.160000  \n",
      "75%      20.300000  \n",
      "max     174.820000  \n"
     ]
    }
   ],
   "source": [
    "# Display the basic statistics of the DataFrame\n",
    "print(taxis.describe())"
   ]
  },
  {
   "cell_type": "code",
   "execution_count": 6,
   "metadata": {},
   "outputs": [
    {
     "data": {
      "text/plain": [
       "Manhattan        5206\n",
       "Queens            542\n",
       "Brooklyn          501\n",
       "Bronx             137\n",
       "Staten Island       2\n",
       "Name: dropoff_borough, dtype: int64"
      ]
     },
     "execution_count": 6,
     "metadata": {},
     "output_type": "execute_result"
    }
   ],
   "source": [
    "taxis['dropoff_borough'].value_counts()"
   ]
  },
  {
   "cell_type": "code",
   "execution_count": 7,
   "metadata": {},
   "outputs": [
    {
     "data": {
      "text/html": [
       "<div>\n",
       "<style scoped>\n",
       "    .dataframe tbody tr th:only-of-type {\n",
       "        vertical-align: middle;\n",
       "    }\n",
       "\n",
       "    .dataframe tbody tr th {\n",
       "        vertical-align: top;\n",
       "    }\n",
       "\n",
       "    .dataframe thead th {\n",
       "        text-align: right;\n",
       "    }\n",
       "</style>\n",
       "<table border=\"1\" class=\"dataframe\">\n",
       "  <thead>\n",
       "    <tr style=\"text-align: right;\">\n",
       "      <th></th>\n",
       "      <th>mean</th>\n",
       "      <th>median</th>\n",
       "    </tr>\n",
       "    <tr>\n",
       "      <th>dropoff_borough</th>\n",
       "      <th></th>\n",
       "      <th></th>\n",
       "    </tr>\n",
       "  </thead>\n",
       "  <tbody>\n",
       "    <tr>\n",
       "      <th>Bronx</th>\n",
       "      <td>0.530803</td>\n",
       "      <td>0.000</td>\n",
       "    </tr>\n",
       "    <tr>\n",
       "      <th>Brooklyn</th>\n",
       "      <td>1.906248</td>\n",
       "      <td>0.000</td>\n",
       "    </tr>\n",
       "    <tr>\n",
       "      <th>Manhattan</th>\n",
       "      <td>1.954606</td>\n",
       "      <td>1.860</td>\n",
       "    </tr>\n",
       "    <tr>\n",
       "      <th>Queens</th>\n",
       "      <td>2.386273</td>\n",
       "      <td>0.000</td>\n",
       "    </tr>\n",
       "    <tr>\n",
       "      <th>Staten Island</th>\n",
       "      <td>14.165000</td>\n",
       "      <td>14.165</td>\n",
       "    </tr>\n",
       "  </tbody>\n",
       "</table>\n",
       "</div>"
      ],
      "text/plain": [
       "                      mean  median\n",
       "dropoff_borough                   \n",
       "Bronx             0.530803   0.000\n",
       "Brooklyn          1.906248   0.000\n",
       "Manhattan         1.954606   1.860\n",
       "Queens            2.386273   0.000\n",
       "Staten Island    14.165000  14.165"
      ]
     },
     "execution_count": 7,
     "metadata": {},
     "output_type": "execute_result"
    }
   ],
   "source": [
    "## vizinhanças em que as casas costumam ser mais caras oferecem melhores gorjetas?\n",
    "taxis.groupby(['dropoff_borough'])['tip'].agg(['mean', 'median'])"
   ]
  },
  {
   "cell_type": "code",
   "execution_count": 8,
   "metadata": {},
   "outputs": [
    {
     "data": {
      "text/html": [
       "<div>\n",
       "<style scoped>\n",
       "    .dataframe tbody tr th:only-of-type {\n",
       "        vertical-align: middle;\n",
       "    }\n",
       "\n",
       "    .dataframe tbody tr th {\n",
       "        vertical-align: top;\n",
       "    }\n",
       "\n",
       "    .dataframe thead th {\n",
       "        text-align: right;\n",
       "    }\n",
       "</style>\n",
       "<table border=\"1\" class=\"dataframe\">\n",
       "  <thead>\n",
       "    <tr style=\"text-align: right;\">\n",
       "      <th></th>\n",
       "      <th>max</th>\n",
       "    </tr>\n",
       "    <tr>\n",
       "      <th>dropoff_borough</th>\n",
       "      <th></th>\n",
       "    </tr>\n",
       "  </thead>\n",
       "  <tbody>\n",
       "    <tr>\n",
       "      <th>Bronx</th>\n",
       "      <td>10.26</td>\n",
       "    </tr>\n",
       "    <tr>\n",
       "      <th>Brooklyn</th>\n",
       "      <td>23.19</td>\n",
       "    </tr>\n",
       "    <tr>\n",
       "      <th>Manhattan</th>\n",
       "      <td>16.59</td>\n",
       "    </tr>\n",
       "    <tr>\n",
       "      <th>Queens</th>\n",
       "      <td>20.80</td>\n",
       "    </tr>\n",
       "    <tr>\n",
       "      <th>Staten Island</th>\n",
       "      <td>16.27</td>\n",
       "    </tr>\n",
       "  </tbody>\n",
       "</table>\n",
       "</div>"
      ],
      "text/plain": [
       "                   max\n",
       "dropoff_borough       \n",
       "Bronx            10.26\n",
       "Brooklyn         23.19\n",
       "Manhattan        16.59\n",
       "Queens           20.80\n",
       "Staten Island    16.27"
      ]
     },
     "execution_count": 8,
     "metadata": {},
     "output_type": "execute_result"
    }
   ],
   "source": [
    "## vizinhanças em que as casas costumam ser mais caras oferecem melhores gorjetas?\n",
    "taxis.groupby(['dropoff_borough'])['tip'].agg(['max'])"
   ]
  },
  {
   "cell_type": "code",
   "execution_count": null,
   "metadata": {},
   "outputs": [],
   "source": [
    "a = 'teste 02 git envio vscode' "
   ]
  }
 ],
 "metadata": {
  "kernelspec": {
   "display_name": "base",
   "language": "python",
   "name": "python3"
  },
  "language_info": {
   "codemirror_mode": {
    "name": "ipython",
    "version": 3
   },
   "file_extension": ".py",
   "mimetype": "text/x-python",
   "name": "python",
   "nbconvert_exporter": "python",
   "pygments_lexer": "ipython3",
   "version": "3.10.9"
  }
 },
 "nbformat": 4,
 "nbformat_minor": 2
}
